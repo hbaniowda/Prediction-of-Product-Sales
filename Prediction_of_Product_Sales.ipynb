{
  "nbformat": 4,
  "nbformat_minor": 0,
  "metadata": {
    "colab": {
      "provenance": [],
      "authorship_tag": "ABX9TyMUSnhI2qDogQg+m8Tl3695",
      "include_colab_link": true
    },
    "kernelspec": {
      "name": "python3",
      "display_name": "Python 3"
    },
    "language_info": {
      "name": "python"
    }
  },
  "cells": [
    {
      "cell_type": "markdown",
      "metadata": {
        "id": "view-in-github",
        "colab_type": "text"
      },
      "source": [
        "<a href=\"https://colab.research.google.com/github/hbaniowda/Prediction-of-Product-Sales/blob/main/Prediction_of_Product_Sales.ipynb\" target=\"_parent\"><img src=\"https://colab.research.google.com/assets/colab-badge.svg\" alt=\"Open In Colab\"/></a>"
      ]
    },
    {
      "cell_type": "markdown",
      "source": [
        "\n",
        "#Project Title: (Prediction of Product Sales).\n",
        "\n",
        "-Author: Hanaa BaniOwda\n"
      ],
      "metadata": {
        "id": "62yT2Qo1lILm"
      }
    },
    {
      "cell_type": "code",
      "source": [],
      "metadata": {
        "id": "WloQazWDEo8Z"
      },
      "execution_count": null,
      "outputs": []
    },
    {
      "cell_type": "markdown",
      "source": [
        "## Project Overview"
      ],
      "metadata": {
        "id": "UY-8mMTXD-i3"
      }
    },
    {
      "cell_type": "code",
      "source": [],
      "metadata": {
        "id": "--53i7AAsfLM"
      },
      "execution_count": null,
      "outputs": []
    },
    {
      "cell_type": "markdown",
      "source": [
        "\n",
        "## Load and Inspect Data\n"
      ],
      "metadata": {
        "id": "KE3SUPZAEKcZ"
      }
    },
    {
      "cell_type": "code",
      "source": [],
      "metadata": {
        "id": "LacrFx8XERWT"
      },
      "execution_count": null,
      "outputs": []
    },
    {
      "cell_type": "markdown",
      "source": [
        "## Clean Data"
      ],
      "metadata": {
        "id": "Vkk4p7b0EUZF"
      }
    },
    {
      "cell_type": "code",
      "source": [],
      "metadata": {
        "id": "wCIgs2XtEZnd"
      },
      "execution_count": null,
      "outputs": []
    },
    {
      "cell_type": "markdown",
      "source": [
        "## Exploratory Data Analysis"
      ],
      "metadata": {
        "id": "HIP0nD6qEadz"
      }
    },
    {
      "cell_type": "code",
      "source": [],
      "metadata": {
        "id": "26Fn-zsVEeLn"
      },
      "execution_count": null,
      "outputs": []
    },
    {
      "cell_type": "markdown",
      "source": [
        "## Feature Inspection"
      ],
      "metadata": {
        "id": "J294h9I2Eezb"
      }
    }
  ]
}
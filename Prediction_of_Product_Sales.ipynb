{
  "nbformat": 4,
  "nbformat_minor": 0,
  "metadata": {
    "colab": {
      "provenance": [],
      "authorship_tag": "ABX9TyOQqGJ5rhZZ3RztwGrGyJz0",
      "include_colab_link": true
    },
    "kernelspec": {
      "name": "python3",
      "display_name": "Python 3"
    },
    "language_info": {
      "name": "python"
    }
  },
  "cells": [
    {
      "cell_type": "markdown",
      "metadata": {
        "id": "view-in-github",
        "colab_type": "text"
      },
      "source": [
        "<a href=\"https://colab.research.google.com/github/hbaniowda/Prediction-of-Product-Sales/blob/main/Prediction_of_Product_Sales.ipynb\" target=\"_parent\"><img src=\"https://colab.research.google.com/assets/colab-badge.svg\" alt=\"Open In Colab\"/></a>"
      ]
    },
    {
      "cell_type": "markdown",
      "source": [
        "\n",
        "#Project Title: (Prediction of Product Sales).\n",
        "\n",
        "-Author: Hanaa BaniOwda\n",
        "\n",
        "## Project Overview\n",
        "in [ ]:  \n",
        "\n",
        "## Load and Inspect Data\n",
        "in [ ]:  \n",
        "\n",
        "## Clean Data\n",
        "in [ ]:  \n",
        "\n",
        "## Exploratory Data Analysis\n",
        "in [ ]:  \n",
        "\n",
        "## Feature Inspection\n",
        "in [ ]:  \n",
        "\n",
        "\n"
      ],
      "metadata": {
        "id": "62yT2Qo1lILm"
      }
    }
  ]
}